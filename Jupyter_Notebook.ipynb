{
 "cells": [
  {
   "cell_type": "markdown",
   "metadata": {},
   "source": [
    "<center>\n",
    "    <img src=\"https://cf-courses-data.s3.us.cloud-object-storage.appdomain.cloud/IBMDeveloperSkillsNetwork-DS0105EN-SkillsNetwork/labs/Module2/images/SN_web_lightmode.png\" width=\"300\" alt=\"cognitiveclass.ai logo\">\n",
    "</center>\n"
   ]
  },
  {
   "cell_type": "markdown",
   "metadata": {},
   "source": [
    "# Data Science Jupyter Notebook"
   ]
  },
  {
   "cell_type": "markdown",
   "metadata": {},
   "source": [
    "## Introduction\n",
    "\n",
    "This notebook outlines basic examples and information related to data science"
   ]
  },
  {
   "cell_type": "markdown",
   "metadata": {},
   "source": [
    "## Data Science Languages\n",
    "\n",
    "Some popular languages used in the field of data science are: Python, R, SQL, Julia, Scala"
   ]
  },
  {
   "cell_type": "markdown",
   "metadata": {},
   "source": [
    "## Data Science Libraries\n",
    "\n",
    "Some populat python libraries used in the field of data science are: Numpy, Pandas, Matplotlib, Tensorflow, Pytorch"
   ]
  },
  {
   "cell_type": "markdown",
   "metadata": {},
   "source": [
    "## Tools for Data Science\n",
    "\n",
    "| Tool | Use |\n",
    "|------|-----|\n",
    "|VScode|Text editor for code that supports many languages|\n",
    "|Apache Spark|Used to process big data|\n",
    "|Natural Language Toolkit (NLTK)|Collection of python libraries used to process human language|\n",
    "|Github|Used to collaborate and contribute to code with other people|"
   ]
  },
  {
   "cell_type": "markdown",
   "metadata": {},
   "source": [
    "## Arithmetic Expression Examples\n",
    "\n",
    "Below will be some examples of basic arithmetic expressions in python"
   ]
  },
  {
   "cell_type": "code",
   "execution_count": 3,
   "metadata": {},
   "outputs": [
    {
     "name": "stdout",
     "output_type": "stream",
     "text": [
      "7\n",
      "12\n",
      "24\n"
     ]
    }
   ],
   "source": [
    "# Multiplication example\n",
    "result = 3 + 4\n",
    "print(result)\n",
    "\n",
    "# Addition example\n",
    "result = 3 * 4\n",
    "print(result)\n",
    "\n",
    "# Addition and Multiplication\n",
    "result = 3 * 4 + 12\n",
    "print(result)"
   ]
  },
  {
   "cell_type": "code",
   "execution_count": 7,
   "metadata": {},
   "outputs": [
    {
     "name": "stdout",
     "output_type": "stream",
     "text": [
      "245 minutes is equal to 4.08 hours, or 4 hours and 5 minutes\n"
     ]
    }
   ],
   "source": [
    "# Converting minutes to hours\n",
    "minutes = 245\n",
    "hours_decimal = round(245 / 60, 2)\n",
    "hours_whole = 245 // 60\n",
    "minutes_remaining = 245 % 60\n",
    "print(f\"{minutes} minutes is equal to {hours_decimal} hours, or {hours_whole} hours and {minutes_remaining} minutes\")"
   ]
  },
  {
   "cell_type": "markdown",
   "metadata": {},
   "source": [
    "## Objectives\n",
    "\n",
    "In this notebook we looked at:\n",
    "- Common languages in data science\n",
    "- Common libraries in data science\n",
    "- Common tools in data science\n",
    "- Examples of arithmetic expressions in python"
   ]
  },
  {
   "cell_type": "markdown",
   "metadata": {},
   "source": [
    "## Author\n",
    "\n",
    "Nicholas Sima"
   ]
  },
  {
   "cell_type": "markdown",
   "metadata": {},
   "source": [
    "## Github Link\n",
    "\n",
    "[Github Link Here](https://github.com/nicksima3424/datasciencenotebook)"
   ]
  },
  {
   "cell_type": "markdown",
   "metadata": {},
   "source": [
    "## Screenshot\n",
    "\n",
    "!["
   ]
  }
 ],
 "metadata": {
  "kernelspec": {
   "display_name": "Python 3 (ipykernel)",
   "language": "python",
   "name": "python3"
  },
  "language_info": {
   "codemirror_mode": {
    "name": "ipython",
    "version": 3
   },
   "file_extension": ".py",
   "mimetype": "text/x-python",
   "name": "python",
   "nbconvert_exporter": "python",
   "pygments_lexer": "ipython3",
   "version": "3.12.8"
  }
 },
 "nbformat": 4,
 "nbformat_minor": 4
}
